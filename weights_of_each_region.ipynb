{
 "cells": [
  {
   "cell_type": "code",
   "execution_count": 1,
   "metadata": {
    "collapsed": true
   },
   "outputs": [],
   "source": [
    "import matplotlib.pylab as plt\n",
    "import numpy as np"
   ]
  },
  {
   "cell_type": "code",
   "execution_count": 2,
   "metadata": {
    "collapsed": true
   },
   "outputs": [],
   "source": [
    "# Vector of weights of each region\n",
    "\n",
    "# Black         0.0\n",
    "# Dark Grey     1.0\n",
    "# Light Grey    2.0\n",
    "# White         4.0\n",
    "\n",
    "w = [\n",
    "         [2.0, 1.0, 1.0, 1.0, 1.0, 1.0, 2.0],\n",
    "         [2.0, 4.0, 4.0, 1.0, 4.0, 4.0, 2.0],\n",
    "         [1.0, 1.0, 1.0, 0.0, 1.0, 1.0, 1.0],\n",
    "         [0.0, 1.0, 1.0, 0.0, 1.0, 1.0, 0.0],\n",
    "         [0.0, 1.0, 1.0, 1.0, 1.0, 1.0, 0.0],\n",
    "         [0.0, 1.0, 1.0, 2.0, 1.0, 1.0, 0.0],\n",
    "         [0.0, 1.0, 1.0, 1.0, 1.0, 1.0, 0.0]\n",
    "         ]\n",
    "\n",
    "matrix = np.matrix(w)"
   ]
  },
  {
   "cell_type": "code",
   "execution_count": 3,
   "metadata": {},
   "outputs": [
    {
     "data": {
      "image/png": "[encoded data removed]",
      "text/plain": [
       "<matplotlib.figure.Figure at 0x7f955060e4d0>"
      ]
     },
     "metadata": {},
     "output_type": "display_data"
    }
   ],
   "source": [
    "# Plot\n",
    "fig, ax = plt.subplots()\n",
    "\n",
    "ax.grid(True)\n",
    "ax.set_xticks(np.arange(-.5, 8, 1));\n",
    "ax.set_yticks(np.arange(-.5, 8, 1));\n",
    "ax.set_xticklabels(np.arange(0, 8, 1));\n",
    "ax.set_yticklabels(np.arange(0, 8, 1));\n",
    "\n",
    "plt.imshow(matrix, interpolation='nearest', cmap='gray')\n",
    "plt.colorbar()\n",
    "plt.show()"
   ]
  },
  {
   "cell_type": "code",
   "execution_count": 4,
   "metadata": {},
   "outputs": [
    {
     "data": {
      "text/plain": [
       "matrix([[1., 1., 1., 0., 1., 1., 1.]])"
      ]
     },
     "execution_count": 4,
     "metadata": {},
     "output_type": "execute_result"
    }
   ],
   "source": [
    "matrix[2]"
   ]
  },
  {
   "cell_type": "code",
   "execution_count": 5,
   "metadata": {},
   "outputs": [
    {
     "data": {
      "text/plain": [
       "0.0"
      ]
     },
     "execution_count": 5,
     "metadata": {},
     "output_type": "execute_result"
    }
   ],
   "source": [
    "w[5][6]"
   ]
  }
 ],
 "metadata": {
  "kernelspec": {
   "display_name": "Python 2",
   "language": "python",
   "name": "python2"
  },
  "language_info": {
   "codemirror_mode": {
    "name": "ipython",
    "version": 2
   },
   "file_extension": ".py",
   "mimetype": "text/x-python",
   "name": "python",
   "nbconvert_exporter": "python",
   "pygments_lexer": "ipython2",
   "version": "2.7.15rc1"
  }
 },
 "nbformat": 4,
 "nbformat_minor": 2
}
